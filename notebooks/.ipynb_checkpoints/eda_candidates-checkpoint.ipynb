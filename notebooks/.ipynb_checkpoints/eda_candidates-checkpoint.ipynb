{
 "cells": [
  {
   "cell_type": "markdown",
   "id": "7d4424f1",
   "metadata": {},
   "source": [
    "# Connection"
   ]
  },
  {
   "cell_type": "code",
   "execution_count": 16,
   "id": "7b2e3e97",
   "metadata": {},
   "outputs": [],
   "source": [
    "#!pip install matplotlib\n",
    "#!pip install seaborn\n",
    "#!pip install pandas\n",
    "#!pip install sqlalchemy"
   ]
  },
  {
   "cell_type": "code",
   "execution_count": 37,
   "id": "19ab9ee3-56b2-405a-b60a-889309d94754",
   "metadata": {},
   "outputs": [],
   "source": [
    "#Import libraries\n",
    "\n",
    "import matplotlib.pyplot as plt\n",
    "import pandas as pd\n",
    "import seaborn as sns\n",
    "from sqlalchemy import create_engine\n",
    "import sys"
   ]
  },
  {
   "cell_type": "code",
   "execution_count": 38,
   "id": "f8ee91b5",
   "metadata": {},
   "outputs": [],
   "source": [
    "sys.path.append('../config/')\n",
    "from config import configuration\n",
    "\n",
    "config = configuration('../config/database.ini')\n",
    "db_url = f\"postgresql+psycopg2://{config['user']}:{config['password']}@{config['host']}/{config['database']}\"\n",
    "engine = create_engine(db_url)\n",
    "\n",
    "conn = engine.connect()"
   ]
  },
  {
   "cell_type": "markdown",
   "id": "6a527d54-2655-49cc-90f0-ab787d77ee4f",
   "metadata": {},
   "source": [
    "# EDA"
   ]
  },
  {
   "cell_type": "markdown",
   "id": "eb04ff16-8e28-450c-8dd8-71e76d3b84b4",
   "metadata": {},
   "source": [
    "## General description"
   ]
  },
  {
   "cell_type": "code",
   "execution_count": 39,
   "id": "9fc27d4b-891a-4a4d-96c8-8ff043b42b1c",
   "metadata": {},
   "outputs": [
    {
     "data": {
      "text/html": [
       "<div>\n",
       "<style scoped>\n",
       "    .dataframe tbody tr th:only-of-type {\n",
       "        vertical-align: middle;\n",
       "    }\n",
       "\n",
       "    .dataframe tbody tr th {\n",
       "        vertical-align: top;\n",
       "    }\n",
       "\n",
       "    .dataframe thead th {\n",
       "        text-align: right;\n",
       "    }\n",
       "</style>\n",
       "<table border=\"1\" class=\"dataframe\">\n",
       "  <thead>\n",
       "    <tr style=\"text-align: right;\">\n",
       "      <th></th>\n",
       "      <th>id</th>\n",
       "      <th>firstname</th>\n",
       "      <th>lastname</th>\n",
       "      <th>email</th>\n",
       "      <th>applicationdate</th>\n",
       "      <th>country</th>\n",
       "      <th>yoe</th>\n",
       "      <th>seniority</th>\n",
       "      <th>technology</th>\n",
       "      <th>codechallengescore</th>\n",
       "      <th>technicalinterviewscore</th>\n",
       "      <th>hired</th>\n",
       "    </tr>\n",
       "  </thead>\n",
       "  <tbody>\n",
       "    <tr>\n",
       "      <th>0</th>\n",
       "      <td>1</td>\n",
       "      <td>Bernadette</td>\n",
       "      <td>Langworth</td>\n",
       "      <td>leonard91@yahoo.com</td>\n",
       "      <td>2021-02-26</td>\n",
       "      <td>Norway</td>\n",
       "      <td>2</td>\n",
       "      <td>Intern</td>\n",
       "      <td>Data Engineer</td>\n",
       "      <td>3</td>\n",
       "      <td>3</td>\n",
       "      <td>False</td>\n",
       "    </tr>\n",
       "    <tr>\n",
       "      <th>1</th>\n",
       "      <td>2</td>\n",
       "      <td>Camryn</td>\n",
       "      <td>Reynolds</td>\n",
       "      <td>zelda56@hotmail.com</td>\n",
       "      <td>2021-09-09</td>\n",
       "      <td>Panama</td>\n",
       "      <td>10</td>\n",
       "      <td>Intern</td>\n",
       "      <td>Data Engineer</td>\n",
       "      <td>2</td>\n",
       "      <td>10</td>\n",
       "      <td>False</td>\n",
       "    </tr>\n",
       "    <tr>\n",
       "      <th>2</th>\n",
       "      <td>3</td>\n",
       "      <td>Larue</td>\n",
       "      <td>Spinka</td>\n",
       "      <td>okey_schultz41@gmail.com</td>\n",
       "      <td>2020-04-14</td>\n",
       "      <td>Belarus</td>\n",
       "      <td>4</td>\n",
       "      <td>Mid-Level</td>\n",
       "      <td>Client Success</td>\n",
       "      <td>10</td>\n",
       "      <td>9</td>\n",
       "      <td>True</td>\n",
       "    </tr>\n",
       "    <tr>\n",
       "      <th>3</th>\n",
       "      <td>4</td>\n",
       "      <td>Arch</td>\n",
       "      <td>Spinka</td>\n",
       "      <td>elvera_kulas@yahoo.com</td>\n",
       "      <td>2020-10-01</td>\n",
       "      <td>Eritrea</td>\n",
       "      <td>25</td>\n",
       "      <td>Trainee</td>\n",
       "      <td>QA Manual</td>\n",
       "      <td>7</td>\n",
       "      <td>1</td>\n",
       "      <td>False</td>\n",
       "    </tr>\n",
       "    <tr>\n",
       "      <th>4</th>\n",
       "      <td>5</td>\n",
       "      <td>Larue</td>\n",
       "      <td>Altenwerth</td>\n",
       "      <td>minnie.gislason@gmail.com</td>\n",
       "      <td>2020-05-20</td>\n",
       "      <td>Myanmar</td>\n",
       "      <td>13</td>\n",
       "      <td>Mid-Level</td>\n",
       "      <td>Social Media Community Management</td>\n",
       "      <td>9</td>\n",
       "      <td>7</td>\n",
       "      <td>True</td>\n",
       "    </tr>\n",
       "  </tbody>\n",
       "</table>\n",
       "</div>"
      ],
      "text/plain": [
       "   id   firstname    lastname                      email applicationdate  \\\n",
       "0   1  Bernadette   Langworth        leonard91@yahoo.com      2021-02-26   \n",
       "1   2      Camryn    Reynolds        zelda56@hotmail.com      2021-09-09   \n",
       "2   3       Larue      Spinka   okey_schultz41@gmail.com      2020-04-14   \n",
       "3   4        Arch      Spinka     elvera_kulas@yahoo.com      2020-10-01   \n",
       "4   5       Larue  Altenwerth  minnie.gislason@gmail.com      2020-05-20   \n",
       "\n",
       "   country  yoe  seniority                         technology  \\\n",
       "0   Norway    2     Intern                      Data Engineer   \n",
       "1   Panama   10     Intern                      Data Engineer   \n",
       "2  Belarus    4  Mid-Level                     Client Success   \n",
       "3  Eritrea   25    Trainee                          QA Manual   \n",
       "4  Myanmar   13  Mid-Level  Social Media Community Management   \n",
       "\n",
       "   codechallengescore  technicalinterviewscore  hired  \n",
       "0                   3                        3  False  \n",
       "1                   2                       10  False  \n",
       "2                  10                        9   True  \n",
       "3                   7                        1  False  \n",
       "4                   9                        7   True  "
      ]
     },
     "execution_count": 39,
     "metadata": {},
     "output_type": "execute_result"
    }
   ],
   "source": [
    "df = pd.read_sql_table('candidates_hired', conn)\n",
    "df.head()"
   ]
  },
  {
   "cell_type": "code",
   "execution_count": 40,
   "id": "08cd565c-059b-4cc1-b584-d4dc47114426",
   "metadata": {},
   "outputs": [
    {
     "data": {
      "text/plain": [
       "Index(['id', 'firstname', 'lastname', 'email', 'applicationdate', 'country',\n",
       "       'yoe', 'seniority', 'technology', 'codechallengescore',\n",
       "       'technicalinterviewscore', 'hired'],\n",
       "      dtype='object')"
      ]
     },
     "execution_count": 40,
     "metadata": {},
     "output_type": "execute_result"
    }
   ],
   "source": [
    "df.columns # Columns of the data"
   ]
  },
  {
   "cell_type": "code",
   "execution_count": 41,
   "id": "efbd6ac5-58c0-4c52-8b9c-da98f2628582",
   "metadata": {},
   "outputs": [
    {
     "data": {
      "text/plain": [
       "id                                  int64\n",
       "firstname                          object\n",
       "lastname                           object\n",
       "email                              object\n",
       "applicationdate            datetime64[ns]\n",
       "country                            object\n",
       "yoe                                 int64\n",
       "seniority                          object\n",
       "technology                         object\n",
       "codechallengescore                  int64\n",
       "technicalinterviewscore             int64\n",
       "hired                                bool\n",
       "dtype: object"
      ]
     },
     "execution_count": 41,
     "metadata": {},
     "output_type": "execute_result"
    }
   ],
   "source": [
    "df.dtypes # Data types"
   ]
  },
  {
   "cell_type": "code",
   "execution_count": 42,
   "id": "8836c465-7aba-40c2-a0a7-cb4730cc6ed6",
   "metadata": {},
   "outputs": [
    {
     "name": "stdout",
     "output_type": "stream",
     "text": [
      "<class 'pandas.core.frame.DataFrame'>\n",
      "RangeIndex: 50000 entries, 0 to 49999\n",
      "Data columns (total 12 columns):\n",
      " #   Column                   Non-Null Count  Dtype         \n",
      "---  ------                   --------------  -----         \n",
      " 0   id                       50000 non-null  int64         \n",
      " 1   firstname                50000 non-null  object        \n",
      " 2   lastname                 50000 non-null  object        \n",
      " 3   email                    50000 non-null  object        \n",
      " 4   applicationdate          50000 non-null  datetime64[ns]\n",
      " 5   country                  50000 non-null  object        \n",
      " 6   yoe                      50000 non-null  int64         \n",
      " 7   seniority                50000 non-null  object        \n",
      " 8   technology               50000 non-null  object        \n",
      " 9   codechallengescore       50000 non-null  int64         \n",
      " 10  technicalinterviewscore  50000 non-null  int64         \n",
      " 11  hired                    50000 non-null  bool          \n",
      "dtypes: bool(1), datetime64[ns](1), int64(4), object(6)\n",
      "memory usage: 4.2+ MB\n"
     ]
    }
   ],
   "source": [
    "df.info() # general information of the data"
   ]
  },
  {
   "cell_type": "markdown",
   "id": "570e92b9-6314-4878-90dc-032da824fff8",
   "metadata": {},
   "source": [
    "### Convert Data"
   ]
  },
  {
   "cell_type": "code",
   "execution_count": 43,
   "id": "84001441-ddfa-43d1-ad50-dbff9d10d304",
   "metadata": {},
   "outputs": [
    {
     "name": "stdout",
     "output_type": "stream",
     "text": [
      "<class 'pandas.core.frame.DataFrame'>\n",
      "RangeIndex: 50000 entries, 0 to 49999\n",
      "Data columns (total 12 columns):\n",
      " #   Column                   Non-Null Count  Dtype         \n",
      "---  ------                   --------------  -----         \n",
      " 0   id                       50000 non-null  Int64         \n",
      " 1   firstname                50000 non-null  string        \n",
      " 2   lastname                 50000 non-null  string        \n",
      " 3   email                    50000 non-null  string        \n",
      " 4   applicationdate          50000 non-null  datetime64[ns]\n",
      " 5   country                  50000 non-null  string        \n",
      " 6   yoe                      50000 non-null  Int64         \n",
      " 7   seniority                50000 non-null  string        \n",
      " 8   technology               50000 non-null  string        \n",
      " 9   codechallengescore       50000 non-null  Int64         \n",
      " 10  technicalinterviewscore  50000 non-null  Int64         \n",
      " 11  hired                    50000 non-null  boolean       \n",
      "dtypes: Int64(4), boolean(1), datetime64[ns](1), string(6)\n",
      "memory usage: 4.5 MB\n"
     ]
    }
   ],
   "source": [
    "df1 = df.convert_dtypes() \n",
    "df1.info() "
   ]
  },
  {
   "cell_type": "markdown",
   "id": "1e1d16ce-6ffe-48b1-b16a-a5f41f8e47cd",
   "metadata": {},
   "source": [
    "### Number of rows and columns"
   ]
  },
  {
   "cell_type": "code",
   "execution_count": 44,
   "id": "42835718-3872-4406-bcfd-06afb4fc1fab",
   "metadata": {},
   "outputs": [
    {
     "name": "stdout",
     "output_type": "stream",
     "text": [
      "Number of rows: 50000\n",
      "Number of columns: 12\n",
      "Type: <class 'tuple'>\n"
     ]
    }
   ],
   "source": [
    "# Get DataFrame size (number of rows and number of columns)\n",
    "num_rows, num_cols = df.shape\n",
    "\n",
    "print(f\"Number of rows: {num_rows}\")\n",
    "print(f\"Number of columns: {num_cols}\")\n",
    "\n",
    "#Verify the data type of df.shape\n",
    "print(f\"Type: {type(df.shape)}\")  # Will print <class 'tuple'>"
   ]
  },
  {
   "cell_type": "markdown",
   "id": "2cff452a-784d-4e95-aed2-094c6ffc2671",
   "metadata": {},
   "source": [
    "### Unique Values"
   ]
  },
  {
   "cell_type": "code",
   "execution_count": 45,
   "id": "af2b81b3-43d0-4250-b01c-1db0ed48de22",
   "metadata": {},
   "outputs": [
    {
     "data": {
      "text/plain": [
       "<StringArray>\n",
       "[                          'Data Engineer',\n",
       "                          'Client Success',\n",
       "                               'QA Manual',\n",
       "       'Social Media Community Management',\n",
       "                'Adobe Experience Manager',\n",
       "                                   'Sales',\n",
       "                                'Mulesoft',\n",
       "                                  'DevOps',\n",
       "               'Development - CMS Backend',\n",
       "                              'Salesforce',\n",
       "                   'System Administration',\n",
       "                                'Security',\n",
       "                        'Game Development',\n",
       "              'Development - CMS Frontend',\n",
       "                     'Security Compliance',\n",
       "                   'Development - Backend',\n",
       "                                  'Design',\n",
       " 'Business Analytics / Project Management',\n",
       "                  'Development - Frontend',\n",
       "                 'Development - FullStack',\n",
       "                   'Business Intelligence',\n",
       "                 'Database Administration',\n",
       "                           'QA Automation',\n",
       "                       'Technical Writing']\n",
       "Length: 24, dtype: string"
      ]
     },
     "execution_count": 45,
     "metadata": {},
     "output_type": "execute_result"
    }
   ],
   "source": [
    "df1['technology'].unique()"
   ]
  },
  {
   "cell_type": "code",
   "execution_count": 46,
   "id": "855beb1e-6f01-445b-ab4b-73b42848d2fa",
   "metadata": {},
   "outputs": [
    {
     "data": {
      "text/plain": [
       "<DatetimeArray>\n",
       "['2021-02-26 00:00:00', '2021-09-09 00:00:00', '2020-04-14 00:00:00',\n",
       " '2020-10-01 00:00:00', '2020-05-20 00:00:00', '2019-08-17 00:00:00',\n",
       " '2018-05-18 00:00:00', '2021-12-09 00:00:00', '2018-03-13 00:00:00',\n",
       " '2022-04-08 00:00:00',\n",
       " ...\n",
       " '2018-07-30 00:00:00', '2021-02-22 00:00:00', '2021-09-18 00:00:00',\n",
       " '2022-05-09 00:00:00', '2021-11-03 00:00:00', '2019-01-25 00:00:00',\n",
       " '2021-01-03 00:00:00', '2019-06-07 00:00:00', '2019-04-07 00:00:00',\n",
       " '2018-05-04 00:00:00']\n",
       "Length: 1646, dtype: datetime64[ns]"
      ]
     },
     "execution_count": 46,
     "metadata": {},
     "output_type": "execute_result"
    }
   ],
   "source": [
    "df1['applicationdate'].unique()"
   ]
  },
  {
   "cell_type": "code",
   "execution_count": 47,
   "id": "a675c98c-d583-44b9-9b4e-d1e0ed3310f9",
   "metadata": {},
   "outputs": [
    {
     "data": {
      "text/plain": [
       "<StringArray>\n",
       "['Intern', 'Mid-Level', 'Trainee', 'Junior', 'Lead', 'Architect', 'Senior']\n",
       "Length: 7, dtype: string"
      ]
     },
     "execution_count": 47,
     "metadata": {},
     "output_type": "execute_result"
    }
   ],
   "source": [
    "df1['seniority'].unique()"
   ]
  },
  {
   "cell_type": "code",
   "execution_count": 48,
   "id": "a4d52cb5-dbb8-4303-b4ab-3cfe8e11a5f7",
   "metadata": {},
   "outputs": [
    {
     "data": {
      "text/plain": [
       "<StringArray>\n",
       "[               'Norway',                'Panama',               'Belarus',\n",
       "               'Eritrea',               'Myanmar',              'Zimbabwe',\n",
       "     'Wallis and Futuna',                 'Italy',           'Timor-Leste',\n",
       "               'Armenia',\n",
       " ...\n",
       "               'Georgia',           'Switzerland',              'Suriname',\n",
       "               'Hungary',                 'Gabon', 'Sao Tome and Principe',\n",
       "               'Mayotte',                 'Benin',                'Uganda',\n",
       "               'Romania']\n",
       "Length: 244, dtype: string"
      ]
     },
     "execution_count": 48,
     "metadata": {},
     "output_type": "execute_result"
    }
   ],
   "source": [
    "df1['country'].unique()"
   ]
  },
  {
   "cell_type": "markdown",
   "id": "463a2a5f-fb11-407c-ba41-667cba1c8916",
   "metadata": {},
   "source": [
    "### Duplicate values"
   ]
  },
  {
   "cell_type": "code",
   "execution_count": 49,
   "id": "6a51a3b3-b9c8-412d-8bea-8d4dbd4b6bd4",
   "metadata": {},
   "outputs": [
    {
     "data": {
      "text/plain": [
       "0"
      ]
     },
     "execution_count": 49,
     "metadata": {},
     "output_type": "execute_result"
    }
   ],
   "source": [
    "total_duplicates = df1.duplicated().sum()\n",
    "total_duplicates"
   ]
  },
  {
   "cell_type": "markdown",
   "id": "2c32537b",
   "metadata": {},
   "source": [
    "### Transformation categories of technology"
   ]
  },
  {
   "cell_type": "code",
   "execution_count": 50,
   "id": "b20b293f",
   "metadata": {},
   "outputs": [
    {
     "data": {
      "text/plain": [
       "<StringArray>\n",
       "[                          'Data Engineer',\n",
       "                          'Client Success',\n",
       "                               'QA Manual',\n",
       "       'Social Media Community Management',\n",
       "                'Adobe Experience Manager',\n",
       "                                   'Sales',\n",
       "                                'Mulesoft',\n",
       "                                  'DevOps',\n",
       "               'Development - CMS Backend',\n",
       "                              'Salesforce',\n",
       "                   'System Administration',\n",
       "                                'Security',\n",
       "                        'Game Development',\n",
       "              'Development - CMS Frontend',\n",
       "                     'Security Compliance',\n",
       "                   'Development - Backend',\n",
       "                                  'Design',\n",
       " 'Business Analytics / Project Management',\n",
       "                  'Development - Frontend',\n",
       "                 'Development - FullStack',\n",
       "                   'Business Intelligence',\n",
       "                 'Database Administration',\n",
       "                           'QA Automation',\n",
       "                       'Technical Writing']\n",
       "Length: 24, dtype: string"
      ]
     },
     "execution_count": 50,
     "metadata": {},
     "output_type": "execute_result"
    }
   ],
   "source": [
    "df1['technology'].unique()"
   ]
  },
  {
   "cell_type": "code",
   "execution_count": 52,
   "id": "81a1bc6e",
   "metadata": {},
   "outputs": [
    {
     "data": {
      "text/html": [
       "<div>\n",
       "<style scoped>\n",
       "    .dataframe tbody tr th:only-of-type {\n",
       "        vertical-align: middle;\n",
       "    }\n",
       "\n",
       "    .dataframe tbody tr th {\n",
       "        vertical-align: top;\n",
       "    }\n",
       "\n",
       "    .dataframe thead th {\n",
       "        text-align: right;\n",
       "    }\n",
       "</style>\n",
       "<table border=\"1\" class=\"dataframe\">\n",
       "  <thead>\n",
       "    <tr style=\"text-align: right;\">\n",
       "      <th></th>\n",
       "      <th>id</th>\n",
       "      <th>firstname</th>\n",
       "      <th>lastname</th>\n",
       "      <th>email</th>\n",
       "      <th>applicationdate</th>\n",
       "      <th>country</th>\n",
       "      <th>yoe</th>\n",
       "      <th>seniority</th>\n",
       "      <th>technology</th>\n",
       "      <th>codechallengescore</th>\n",
       "      <th>technicalinterviewscore</th>\n",
       "      <th>hired</th>\n",
       "      <th>categoryoftechnology</th>\n",
       "    </tr>\n",
       "  </thead>\n",
       "  <tbody>\n",
       "    <tr>\n",
       "      <th>0</th>\n",
       "      <td>1</td>\n",
       "      <td>Bernadette</td>\n",
       "      <td>Langworth</td>\n",
       "      <td>leonard91@yahoo.com</td>\n",
       "      <td>2021-02-26</td>\n",
       "      <td>Norway</td>\n",
       "      <td>2</td>\n",
       "      <td>Intern</td>\n",
       "      <td>Data Engineer</td>\n",
       "      <td>3</td>\n",
       "      <td>3</td>\n",
       "      <td>False</td>\n",
       "      <td>Software Development</td>\n",
       "    </tr>\n",
       "    <tr>\n",
       "      <th>1</th>\n",
       "      <td>2</td>\n",
       "      <td>Camryn</td>\n",
       "      <td>Reynolds</td>\n",
       "      <td>zelda56@hotmail.com</td>\n",
       "      <td>2021-09-09</td>\n",
       "      <td>Panama</td>\n",
       "      <td>10</td>\n",
       "      <td>Intern</td>\n",
       "      <td>Data Engineer</td>\n",
       "      <td>2</td>\n",
       "      <td>10</td>\n",
       "      <td>False</td>\n",
       "      <td>Software Development</td>\n",
       "    </tr>\n",
       "    <tr>\n",
       "      <th>2</th>\n",
       "      <td>3</td>\n",
       "      <td>Larue</td>\n",
       "      <td>Spinka</td>\n",
       "      <td>okey_schultz41@gmail.com</td>\n",
       "      <td>2020-04-14</td>\n",
       "      <td>Belarus</td>\n",
       "      <td>4</td>\n",
       "      <td>Mid-Level</td>\n",
       "      <td>Client Success</td>\n",
       "      <td>10</td>\n",
       "      <td>9</td>\n",
       "      <td>True</td>\n",
       "      <td>Project Management and Analytics</td>\n",
       "    </tr>\n",
       "    <tr>\n",
       "      <th>3</th>\n",
       "      <td>4</td>\n",
       "      <td>Arch</td>\n",
       "      <td>Spinka</td>\n",
       "      <td>elvera_kulas@yahoo.com</td>\n",
       "      <td>2020-10-01</td>\n",
       "      <td>Eritrea</td>\n",
       "      <td>25</td>\n",
       "      <td>Trainee</td>\n",
       "      <td>QA Manual</td>\n",
       "      <td>7</td>\n",
       "      <td>1</td>\n",
       "      <td>False</td>\n",
       "      <td>Integration and Automation</td>\n",
       "    </tr>\n",
       "    <tr>\n",
       "      <th>4</th>\n",
       "      <td>5</td>\n",
       "      <td>Larue</td>\n",
       "      <td>Altenwerth</td>\n",
       "      <td>minnie.gislason@gmail.com</td>\n",
       "      <td>2020-05-20</td>\n",
       "      <td>Myanmar</td>\n",
       "      <td>13</td>\n",
       "      <td>Mid-Level</td>\n",
       "      <td>Social Media Community Management</td>\n",
       "      <td>9</td>\n",
       "      <td>7</td>\n",
       "      <td>True</td>\n",
       "      <td>Sales and Marketing</td>\n",
       "    </tr>\n",
       "  </tbody>\n",
       "</table>\n",
       "</div>"
      ],
      "text/plain": [
       "   id   firstname    lastname                      email applicationdate  \\\n",
       "0   1  Bernadette   Langworth        leonard91@yahoo.com      2021-02-26   \n",
       "1   2      Camryn    Reynolds        zelda56@hotmail.com      2021-09-09   \n",
       "2   3       Larue      Spinka   okey_schultz41@gmail.com      2020-04-14   \n",
       "3   4        Arch      Spinka     elvera_kulas@yahoo.com      2020-10-01   \n",
       "4   5       Larue  Altenwerth  minnie.gislason@gmail.com      2020-05-20   \n",
       "\n",
       "   country  yoe  seniority                         technology  \\\n",
       "0   Norway    2     Intern                      Data Engineer   \n",
       "1   Panama   10     Intern                      Data Engineer   \n",
       "2  Belarus    4  Mid-Level                     Client Success   \n",
       "3  Eritrea   25    Trainee                          QA Manual   \n",
       "4  Myanmar   13  Mid-Level  Social Media Community Management   \n",
       "\n",
       "   codechallengescore  technicalinterviewscore  hired  \\\n",
       "0                   3                        3  False   \n",
       "1                   2                       10  False   \n",
       "2                  10                        9   True   \n",
       "3                   7                        1  False   \n",
       "4                   9                        7   True   \n",
       "\n",
       "               categoryoftechnology  \n",
       "0              Software Development  \n",
       "1              Software Development  \n",
       "2  Project Management and Analytics  \n",
       "3        Integration and Automation  \n",
       "4               Sales and Marketing  "
      ]
     },
     "execution_count": 52,
     "metadata": {},
     "output_type": "execute_result"
    }
   ],
   "source": [
    "technology_categories = {\n",
    "    'Data Engineer': 'Software Development',\n",
    "    'Development - CMS Backend': 'Software Development',\n",
    "    'Development - CMS Frontend': 'Software Development',\n",
    "    'Development - Backend': 'Software Development',\n",
    "    'Development - Frontend': 'Software Development',\n",
    "    'Development - FullStack': 'Software Development',\n",
    "    'Game Development': 'Software Development',\n",
    "    'Client Success': 'Project Management and Analytics',\n",
    "    'Business Analytics / Project Management': 'Project Management and Analytics',\n",
    "    'Business Intelligence': 'Project Management and Analytics',\n",
    "    'DevOps': 'Infrastructure and Operations',\n",
    "    'System Administration': 'Infrastructure and Operations',\n",
    "    'Database Administration': 'Infrastructure and Operations',\n",
    "    'Security': 'Security',\n",
    "    'Security Compliance': 'Security',\n",
    "    'Sales': 'Sales and Marketing',\n",
    "    'Social Media Community Management': 'Sales and Marketing',\n",
    "    'Design': 'Sales and Marketing',\n",
    "    'Adobe Experience Manager': 'Sales and Marketing',\n",
    "    'Mulesoft': 'Integration and Automation',\n",
    "    'Salesforce': 'Integration and Automation',\n",
    "    'QA Manual': 'Integration and Automation',\n",
    "    'QA Automation': 'Integration and Automation',\n",
    "    'Technical Writing': 'Integration and Automation'\n",
    "}\n",
    "df1['categoryoftechnology'] = df1['technology'].map(technology_categories)\n",
    "\n",
    "df1.head()"
   ]
  },
  {
   "cell_type": "code",
   "execution_count": 53,
   "id": "cdf053ca",
   "metadata": {},
   "outputs": [
    {
     "data": {
      "text/plain": [
       "1000"
      ]
     },
     "execution_count": 53,
     "metadata": {},
     "output_type": "execute_result"
    }
   ],
   "source": [
    "df1.to_sql('candidates_hired', conn, if_exists='replace', index=False)"
   ]
  },
  {
   "cell_type": "markdown",
   "id": "8cc61642-c308-4238-8e08-aa7ef36bdde7",
   "metadata": {},
   "source": [
    "## Graphics"
   ]
  },
  {
   "cell_type": "code",
   "execution_count": 56,
   "id": "7a85b511-955c-4df1-8724-3ab5cd8bb140",
   "metadata": {},
   "outputs": [
    {
     "name": "stdout",
     "output_type": "stream",
     "text": [
      "Values 'technology':\n",
      "technology\n",
      "Game Development                           3818\n",
      "DevOps                                     3808\n",
      "Social Media Community Management          2028\n",
      "System Administration                      2014\n",
      "Mulesoft                                   1973\n",
      "Development - Backend                      1965\n",
      "Development - FullStack                    1961\n",
      "Adobe Experience Manager                   1954\n",
      "Data Engineer                              1951\n",
      "Security                                   1936\n",
      "Development - CMS Frontend                 1934\n",
      "Business Intelligence                      1934\n",
      "Database Administration                    1933\n",
      "Client Success                             1927\n",
      "Design                                     1906\n",
      "QA Manual                                  1902\n",
      "Technical Writing                          1901\n",
      "QA Automation                              1892\n",
      "Sales                                      1890\n",
      "Development - Frontend                     1887\n",
      "Development - CMS Backend                  1882\n",
      "Business Analytics / Project Management    1878\n",
      "Salesforce                                 1874\n",
      "Security Compliance                        1852\n",
      "Name: count, dtype: Int64\n"
     ]
    }
   ],
   "source": [
    "### Get the exact values for Technology\n",
    "values_Technology = df1['technology'].value_counts()\n",
    "\n",
    "# Print the exact values\n",
    "print(\"Values 'technology':\")\n",
    "print(values_Technology)"
   ]
  },
  {
   "cell_type": "markdown",
   "id": "6bf26b57-a9c8-434b-b997-b4c75e65c837",
   "metadata": {},
   "source": [
    "### Pie chart for Technology values"
   ]
  },
  {
   "cell_type": "code",
   "execution_count": 62,
   "id": "919a682d-4888-43d9-9f83-654b21e2a384",
   "metadata": {},
   "outputs": [
    {
     "data": {
      "image/png": "[encoded data removed]",
      "text/plain": [
       "<Figure size 1000x800 with 1 Axes>"
      ]
     },
     "metadata": {},
     "output_type": "display_data"
    }
   ],
   "source": [
    "values_ctechnology = df1['categoryoftechnology'].value_counts()\n",
    "\n",
    "# Create a pie chart\n",
    "plt.figure(figsize=(10, 8))\n",
    "plt.pie(values_ctechnology, labels=values_ctechnology.index, autopct='%1.1f%%', startangle=140)\n",
    "plt.title('Technology Distribution')\n",
    "plt.axis('equal') \n",
    "plt.show()\n"
   ]
  },
  {
   "cell_type": "code",
   "execution_count": 64,
   "id": "26dc04c9-a7c4-4538-8159-7267f1abdafc",
   "metadata": {},
   "outputs": [
    {
     "name": "stdout",
     "output_type": "stream",
     "text": [
      "Values 'Seniority':\n",
      "seniority\n",
      "Intern       7255\n",
      "Mid-Level    7253\n",
      "Trainee      7183\n",
      "Junior       7100\n",
      "Architect    7079\n",
      "Lead         7071\n",
      "Senior       7059\n",
      "Name: count, dtype: Int64\n"
     ]
    }
   ],
   "source": [
    "### Get the exact values for Seniority\n",
    "values_Seniority = df1['seniority'].value_counts()\n",
    "\n",
    "# Print the exact values\n",
    "print(\"Values 'Seniority':\")\n",
    "print(values_Seniority)"
   ]
  },
  {
   "cell_type": "markdown",
   "id": "d9c3d1c4-2499-4cd1-80ae-c89293e3565b",
   "metadata": {},
   "source": [
    "### Distribution graph of the Seniority"
   ]
  },
  {
   "cell_type": "code",
   "execution_count": 65,
   "id": "852cdd08-dcec-4028-9b57-dbb7b807bfb7",
   "metadata": {},
   "outputs": [
    {
     "data": {
      "image/png": "[encoded data removed]",
      "text/plain": [
       "<Figure size 640x480 with 1 Axes>"
      ]
     },
     "metadata": {},
     "output_type": "display_data"
    }
   ],
   "source": [
    "sns.countplot(data=df1, x=\"seniority\")\n",
    "plt.title('Seniority Distribution')\n",
    "plt.xticks(rotation=45)\n",
    "plt.show()"
   ]
  },
  {
   "cell_type": "code",
   "execution_count": null,
   "id": "343e5fd4-e360-4e54-850e-5b2cc7271efd",
   "metadata": {},
   "outputs": [],
   "source": []
  }
 ],
 "metadata": {
  "kernelspec": {
   "display_name": "Python 3 (ipykernel)",
   "language": "python",
   "name": "python3"
  },
  "language_info": {
   "codemirror_mode": {
    "name": "ipython",
    "version": 3
   },
   "file_extension": ".py",
   "mimetype": "text/x-python",
   "name": "python",
   "nbconvert_exporter": "python",
   "pygments_lexer": "ipython3",
   "version": "3.12.2"
  }
 },
 "nbformat": 4,
 "nbformat_minor": 5
}
